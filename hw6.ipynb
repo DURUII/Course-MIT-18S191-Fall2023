{
 "cells": [
  {
   "cell_type": "code",
   "execution_count": 1,
   "metadata": {
    "collapsed": true
   },
   "outputs": [],
   "source": [
    "from sympy import *"
   ]
  },
  {
   "cell_type": "code",
   "execution_count": 48,
   "outputs": [],
   "source": [
    "p = Symbol('p', positive=True)\n",
    "x = Symbol('x')\n",
    "t = Symbol('t')"
   ],
   "metadata": {
    "collapsed": false
   }
  },
  {
   "cell_type": "code",
   "execution_count": 49,
   "outputs": [
    {
     "data": {
      "text/plain": "p*(1 - p)**(x - 1)",
      "text/latex": "$\\displaystyle p \\left(1 - p\\right)^{x - 1}$"
     },
     "execution_count": 49,
     "metadata": {},
     "output_type": "execute_result"
    }
   ],
   "source": [
    "y = (1 - p) ** (x - 1) * p\n",
    "y"
   ],
   "metadata": {
    "collapsed": false
   }
  },
  {
   "cell_type": "code",
   "execution_count": 50,
   "outputs": [
    {
     "data": {
      "text/plain": "p*(1 - p)**(t - 1)/log(1 - p) - p/((1 - p)*log(1 - p))",
      "text/latex": "$\\displaystyle \\frac{p \\left(1 - p\\right)^{t - 1}}{\\log{\\left(1 - p \\right)}} - \\frac{p}{\\left(1 - p\\right) \\log{\\left(1 - p \\right)}}$"
     },
     "execution_count": 50,
     "metadata": {},
     "output_type": "execute_result"
    }
   ],
   "source": [
    "i = integrate(y, (x, 0, t))\n",
    "i"
   ],
   "metadata": {
    "collapsed": false
   }
  },
  {
   "cell_type": "code",
   "execution_count": 51,
   "outputs": [
    {
     "data": {
      "text/plain": "Eq(p*(1 - p)**(t - 1)/log(1 - p) - p/((1 - p)*log(1 - p)), 0.5)",
      "text/latex": "$\\displaystyle \\frac{p \\left(1 - p\\right)^{t - 1}}{\\log{\\left(1 - p \\right)}} - \\frac{p}{\\left(1 - p\\right) \\log{\\left(1 - p \\right)}} = 0.5$"
     },
     "execution_count": 51,
     "metadata": {},
     "output_type": "execute_result"
    }
   ],
   "source": [
    "eq = Eq(i, 1 / 2)\n",
    "eq"
   ],
   "metadata": {
    "collapsed": false
   }
  },
  {
   "cell_type": "code",
   "execution_count": 52,
   "outputs": [
    {
     "data": {
      "text/plain": "log(0.5*(-p*(log(1.0 - p) - 2.0) + log(1.0 - p))/p)/log(1.0 - p)",
      "text/latex": "$\\displaystyle \\frac{\\log{\\left(\\frac{0.5 \\left(- p \\left(\\log{\\left(1.0 - p \\right)} - 2.0\\right) + \\log{\\left(1.0 - p \\right)}\\right)}{p} \\right)}}{\\log{\\left(1.0 - p \\right)}}$"
     },
     "execution_count": 52,
     "metadata": {},
     "output_type": "execute_result"
    }
   ],
   "source": [
    "solve(eq)[0][t]"
   ],
   "metadata": {
    "collapsed": false
   }
  },
  {
   "cell_type": "code",
   "execution_count": null,
   "outputs": [],
   "source": [],
   "metadata": {
    "collapsed": false
   }
  }
 ],
 "metadata": {
  "kernelspec": {
   "display_name": "Python 3",
   "language": "python",
   "name": "python3"
  },
  "language_info": {
   "codemirror_mode": {
    "name": "ipython",
    "version": 2
   },
   "file_extension": ".py",
   "mimetype": "text/x-python",
   "name": "python",
   "nbconvert_exporter": "python",
   "pygments_lexer": "ipython2",
   "version": "2.7.6"
  }
 },
 "nbformat": 4,
 "nbformat_minor": 0
}
